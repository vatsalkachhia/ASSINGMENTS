{
 "cells": [
  {
   "cell_type": "code",
   "execution_count": 9,
   "id": "43c9fbab",
   "metadata": {},
   "outputs": [],
   "source": [
    "from core.event_extractor import extract_event_info_with_agent, extract_event_info_with_chain_mode"
   ]
  },
  {
   "cell_type": "code",
   "execution_count": 13,
   "id": "2b7e68a7",
   "metadata": {},
   "outputs": [],
   "source": [
    "sample_inputs = \"\"\"Your presence is cordially requested at the Annual Charity Gala. The event will be held on the evening of October 4, 2025, commencing at eight o'clock, at The Grand Plaza Hotel.\"\"\".strip()"
   ]
  },
  {
   "cell_type": "markdown",
   "id": "073ff69e",
   "metadata": {},
   "source": [
    "Note: sample_input.md has more sample inputs"
   ]
  },
  {
   "cell_type": "markdown",
   "id": "f52ceb3f",
   "metadata": {},
   "source": [
    "# Running in agent mode"
   ]
  },
  {
   "cell_type": "code",
   "execution_count": 15,
   "id": "6a89ab12",
   "metadata": {},
   "outputs": [
    {
     "name": "stdout",
     "output_type": "stream",
     "text": [
      "2025-09-13 18:26:36 INFO Event Extractor - Extracting event info with agent...\n",
      "\n",
      "\n",
      "\u001b[1m> Entering new AgentExecutor chain...\u001b[0m\n",
      "\u001b[32;1m\u001b[1;3mThe event requires me to add it to the calendar with the specified details. I need to gather all the required information, including the title, date, time, and location.\n",
      "\n",
      "Action: Add event to calendar\n",
      "Action Input: {\"title\": \"Annual Charity Gala\", \"date\": \"2025-10-04\", \"time\": \"20:00\", \"location\": \"The Grand Plaza Hotel\", \"attendees\": []}\u001b[0m\n",
      "Observation: \u001b[36;1m\u001b[1;3mEvent 'Annual Charity Gala' on 2025-10-04 at 08:00 PM in The Grand Plaza Hotel successfully added.\u001b[0m\n",
      "Thought:\u001b[32;1m\u001b[1;3mI now know the final answer\n",
      "Final Answer: The Annual Charity Gala has been successfully added to the calendar for October 4, 2025, at 8:00 PM, located at The Grand Plaza Hotel.\u001b[0m\n",
      "\n",
      "\u001b[1m> Finished chain.\u001b[0m\n"
     ]
    },
    {
     "data": {
      "text/plain": [
       "{'input': \"Your presence is cordially requested at the Annual Charity Gala. The event will be held on the evening of October 4, 2025, commencing at eight o'clock, at The Grand Plaza Hotel.\",\n",
       " 'output': 'The Annual Charity Gala has been successfully added to the calendar for October 4, 2025, at 8:00 PM, located at The Grand Plaza Hotel.'}"
      ]
     },
     "execution_count": 15,
     "metadata": {},
     "output_type": "execute_result"
    }
   ],
   "source": [
    "extract_event_info_with_agent(sample_inputs)"
   ]
  },
  {
   "cell_type": "markdown",
   "id": "c658196d",
   "metadata": {},
   "source": [
    "# Running in chain mode"
   ]
  },
  {
   "cell_type": "code",
   "execution_count": 14,
   "id": "dd9aa0aa",
   "metadata": {},
   "outputs": [
    {
     "name": "stdout",
     "output_type": "stream",
     "text": [
      "2025-09-13 18:26:29 INFO Event Extractor - Extracting event info with chain mode...\n",
      "2025-09-13 18:26:30 INFO Event Extractor - Extracted event: title='Annual Charity Gala' date='2025-10-04' time='20:00' location='The Grand Plaza Hotel' attendees=[]\n"
     ]
    },
    {
     "data": {
      "text/plain": [
       "{'input': \"Your presence is cordially requested at the Annual Charity Gala. The event will be held on the evening of October 4, 2025, commencing at eight o'clock, at The Grand Plaza Hotel.\",\n",
       " 'output': \"Event 'Annual Charity Gala' on 2025-10-04 at 08:00 PM in The Grand Plaza Hotel successfully added.\"}"
      ]
     },
     "execution_count": 14,
     "metadata": {},
     "output_type": "execute_result"
    }
   ],
   "source": [
    "extract_event_info_with_chain_mode(sample_inputs)"
   ]
  },
  {
   "cell_type": "code",
   "execution_count": null,
   "id": "4b3f4d5c",
   "metadata": {},
   "outputs": [],
   "source": []
  }
 ],
 "metadata": {
  "kernelspec": {
   "display_name": "venv",
   "language": "python",
   "name": "python3"
  },
  "language_info": {
   "codemirror_mode": {
    "name": "ipython",
    "version": 3
   },
   "file_extension": ".py",
   "mimetype": "text/x-python",
   "name": "python",
   "nbconvert_exporter": "python",
   "pygments_lexer": "ipython3",
   "version": "3.13.5"
  }
 },
 "nbformat": 4,
 "nbformat_minor": 5
}
